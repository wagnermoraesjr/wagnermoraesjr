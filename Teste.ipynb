{
 "cells": [
  {
   "cell_type": "code",
   "execution_count": 1,
   "id": "8fb1c398",
   "metadata": {},
   "outputs": [
    {
     "name": "stdout",
     "output_type": "stream",
     "text": [
      "Hello World!\n"
     ]
    }
   ],
   "source": [
    "print('Hello World!')"
   ]
  },
  {
   "cell_type": "markdown",
   "id": "22922e3e",
   "metadata": {},
   "source": [
    "Lista de 1 a 100, porém imprimir somente número pares divisíveis por 4."
   ]
  },
  {
   "cell_type": "code",
   "execution_count": 2,
   "id": "fff833d0",
   "metadata": {},
   "outputs": [
    {
     "name": "stdout",
     "output_type": "stream",
     "text": [
      "4\n",
      "8\n",
      "12\n",
      "16\n",
      "20\n",
      "24\n",
      "28\n",
      "32\n",
      "36\n",
      "40\n",
      "44\n",
      "48\n",
      "52\n",
      "56\n",
      "60\n",
      "64\n",
      "68\n",
      "72\n",
      "76\n",
      "80\n",
      "84\n",
      "88\n",
      "92\n",
      "96\n",
      "100\n"
     ]
    }
   ],
   "source": [
    "# Cria uma lista com os números entre 1 e 100.\n",
    "# Uma lista de range de 1 a 101 (pois o último número não conta) é atribuída à variável \"numeros\".\n",
    "numeros = list(range(1,101))\n",
    "\n",
    "# Percorre a lista e verifica se o número é par e divisível por 4.\n",
    "# Para cada número na lista de numeros, gerar ação abaixo (:). Se o numero dividido por 2 for igual a zero e o numero dividido por 4 for igual a zero, gerar ação abaixo (:). Imprimir numero. \n",
    "for numero in numeros:\n",
    "    if numero % 2 == 0 and numero % 4 == 0:\n",
    "        print(numero)"
   ]
  },
  {
   "cell_type": "markdown",
   "id": "1a938bb4",
   "metadata": {},
   "source": [
    "Lista de 1 a 100, porém imprimir somente número pares divisiveis por 4, usando LIST COMPREHENSION."
   ]
  },
  {
   "cell_type": "code",
   "execution_count": 3,
   "id": "66bdc6f5",
   "metadata": {},
   "outputs": [
    {
     "name": "stdout",
     "output_type": "stream",
     "text": [
      "[4, 8, 12, 16, 20, 24, 28, 32, 36, 40, 44, 48, 52, 56, 60, 64, 68, 72, 76, 80, 84, 88, 92, 96, 100]\n"
     ]
    }
   ],
   "source": [
    "# Cria uma lista com os números entre 1 e 100.\n",
    "# Uma lista de range de 1 a 101 (pois o último número não conta) é atribuída à variável \"numeros\".\n",
    "numeros = list(range(1, 101))\n",
    "\n",
    "# Usa a list comprehension para gerar uma lista somente com os números pares e divisíveis por 4.\n",
    "# Eu sei que é uma list comprehension por que está usando os colchetes [].\n",
    "pares_div4 = [numero for numero in numeros if numero % 2 == 0 and numero % 4 == 0]\n",
    "\n",
    "# Imprime a lista gerada.\n",
    "print(pares_div4)"
   ]
  },
  {
   "cell_type": "markdown",
   "id": "80f94271",
   "metadata": {},
   "source": [
    "# Fim"
   ]
  },
  {
   "cell_type": "code",
   "execution_count": null,
   "id": "09de5151",
   "metadata": {},
   "outputs": [],
   "source": []
  }
 ],
 "metadata": {
  "kernelspec": {
   "display_name": "Python 3 (ipykernel)",
   "language": "python",
   "name": "python3"
  },
  "language_info": {
   "codemirror_mode": {
    "name": "ipython",
    "version": 3
   },
   "file_extension": ".py",
   "mimetype": "text/x-python",
   "name": "python",
   "nbconvert_exporter": "python",
   "pygments_lexer": "ipython3",
   "version": "3.9.13"
  }
 },
 "nbformat": 4,
 "nbformat_minor": 5
}
